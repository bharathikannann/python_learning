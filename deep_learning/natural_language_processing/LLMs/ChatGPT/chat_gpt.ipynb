{
 "cells": [
  {
   "attachments": {},
   "cell_type": "markdown",
   "metadata": {},
   "source": [
    "A simple OpenAI model for chatbot"
   ]
  },
  {
   "cell_type": "code",
   "execution_count": 8,
   "metadata": {},
   "outputs": [],
   "source": [
    "# install openai and gradio\n",
    "# !pip install openai\n",
    "# !pip install gradio"
   ]
  },
  {
   "cell_type": "code",
   "execution_count": 9,
   "metadata": {},
   "outputs": [
    {
     "name": "stdout",
     "output_type": "stream",
     "text": [
      "Running on local URL:  http://127.0.0.1:7866\n",
      "\n",
      "To create a public link, set `share=True` in `launch()`.\n"
     ]
    },
    {
     "data": {
      "text/html": [
       "<div><iframe src=\"http://127.0.0.1:7866/\" width=\"100%\" height=\"500\" allow=\"autoplay; camera; microphone; clipboard-read; clipboard-write;\" frameborder=\"0\" allowfullscreen></iframe></div>"
      ],
      "text/plain": [
       "<IPython.core.display.HTML object>"
      ]
     },
     "metadata": {},
     "output_type": "display_data"
    }
   ],
   "source": [
    "import gradio as gr\n",
    "import openai\n",
    "\n",
    "def chatbot(openai_key = \"\", model = \"gpt-3.5-turbo\"):\n",
    "    openai.api_key = openai_key # OPENAI_API_KEY\n",
    "    message_history = [] # Create a message history to keep track of the conversation\n",
    "\n",
    "    def predict(message, model = 'gpt-3.5-turbo'):\n",
    "        message_history.append({\"role\":\"user\", \"content\":f\"{message}\"}) # add the message to the message history\n",
    "        completion = openai.ChatCompletion.create(\n",
    "            model = model,\n",
    "            messages = message_history,\n",
    "        ) # generate a response\n",
    "        reply_message = completion.choices[0].message.content # get the response\n",
    "        message_history.append({\"role\":\"assistant\", \"content\":f\"{reply_message}\"}) # add the response to the message history\n",
    "        response = [(message_history[i][\"content\"], message_history[i+1][\"content\"]) for i in range(0, len(message_history)-1, 2)]\n",
    "        return response\n",
    "\n",
    "    # Create a gradio interface\n",
    "    with gr.Blocks() as demo:\n",
    "        chatbot = gr.Chatbot() # create a chatbot object\n",
    "        with gr.Row():         # create a row to hold the chatbot and the text box\n",
    "            txt = gr.Textbox(show_label = False, placeholder=\"Type a message...\").style(container = False)\n",
    "        txt.submit(predict, txt, chatbot) # submit the text box to the predict function and display the chatbot\n",
    "        txt.submit(lambda: \"\", None, txt) # clear text box, python version\n",
    "\n",
    "    demo.launch(share=False) # launch the interface\n",
    "\n",
    "chatbot(openai_key = \"your_openai_key\")"
   ]
  }
 ],
 "metadata": {
  "kernelspec": {
   "display_name": "Python 3",
   "language": "python",
   "name": "python3"
  },
  "language_info": {
   "codemirror_mode": {
    "name": "ipython",
    "version": 3
   },
   "file_extension": ".py",
   "mimetype": "text/x-python",
   "name": "python",
   "nbconvert_exporter": "python",
   "pygments_lexer": "ipython3",
   "version": "3.9.8"
  },
  "orig_nbformat": 4
 },
 "nbformat": 4,
 "nbformat_minor": 2
}

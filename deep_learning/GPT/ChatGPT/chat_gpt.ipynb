{
 "cells": [
  {
   "attachments": {},
   "cell_type": "markdown",
   "metadata": {},
   "source": [
    "A simple OpenAI model for chatbot"
   ]
  },
  {
   "cell_type": "code",
   "execution_count": null,
   "metadata": {},
   "outputs": [],
   "source": [
    "# install openai\n",
    "# !pip install openai\n",
    "# !pip install gradio"
   ]
  },
  {
   "cell_type": "code",
   "execution_count": null,
   "metadata": {},
   "outputs": [],
   "source": [
    "import openai\n",
    "\n",
    "openai.api_key = \"your api key\""
   ]
  },
  {
   "cell_type": "code",
   "execution_count": null,
   "metadata": {},
   "outputs": [],
   "source": [
    "completion = openai.ChatCompletion.create(\n",
    "    model = \"gpt-3.5-turbo\",\n",
    "    messages = [{\"role\":\"user\", \"content\":\"What is the circumference of the earth?\"}],\n",
    ")"
   ]
  },
  {
   "cell_type": "code",
   "execution_count": null,
   "metadata": {},
   "outputs": [],
   "source": [
    "message_history = []\n",
    "\n",
    "def chat(message, role=\"user\"):\n",
    "    message_history.append({\"role\":role, \"content\":f\"{message}\"})\n",
    "    completion = openai.ChatCompletion.create(\n",
    "        model = \"gpt-3.5-turbo\",\n",
    "        messages = message_history,\n",
    "    )\n",
    "\n",
    "    reply_message = completion.choices[0].message.content\n",
    "    message_history.append({\"role\":\"assistant\", \"content\":f\"{reply_message}\"})\n",
    "    return reply_message\n",
    "\n",
    "for i in range(2):\n",
    "    message = input(\"User: \")\n",
    "    if message == \"quit\":\n",
    "        break\n",
    "    print(f\"User: {message}\")\n",
    "    reply = chat(message)\n",
    "    print(\"Bot: \", reply)\n",
    "    print(\"\")"
   ]
  },
  {
   "cell_type": "code",
   "execution_count": null,
   "metadata": {},
   "outputs": [],
   "source": [
    "import gradio as gr\n",
    "import openai\n",
    "\n",
    "def jokechatbot(openai_key = \"\", model = \"gpt-3.5-turbo\"):\n",
    "\n",
    "    openai.api_key = openai_key # OPENAI_API_KEY\n",
    "\n",
    "    # Create a message history to keep track of the conversation\n",
    "    # Initialize with a joke prompt\n",
    "    message_history = [{\"role\":\"user\", \"content\": f\"You are a jokebot. I'll specify the joke and you need to Tell me a joke.\"}, \n",
    "                    {\"role\":\"assistant\", \"content\": f\"OK, I'll try.\"}]\n",
    "\n",
    "    # Define a function that takes in a message and returns a response\n",
    "    def predict(message, model = 'gpt-3.5-turbo'):\n",
    "        message_history.append({\"role\":\"user\", \"content\":f\"{message}\"})\n",
    "        completion = openai.ChatCompletion.create(\n",
    "            model = model,\n",
    "            messages = message_history,\n",
    "        )\n",
    "\n",
    "        reply_message = completion.choices[0].message.content\n",
    "        message_history.append({\"role\":\"assistant\", \"content\":f\"{reply_message}\"})\n",
    "\n",
    "        response = [(message_history[i][\"content\"], message_history[i+1][\"content\"]) for i in range(2, len(message_history)-1, 2)]\n",
    "        return response\n",
    "\n",
    "    # Create a gradio interface\n",
    "    with gr.Blocks() as demo:\n",
    "        chatbot = gr.Chatbot() # create a chatbot object\n",
    "        with gr.Row():         # create a row to hold the chatbot and the text box\n",
    "            txt = gr.Textbox(show_label = False, placeholder=\"Type a message...\").style(container = False) # create a text box and style it\n",
    "        txt.submit(predict, txt, chatbot) # submit the text box to the predict function and display the chatbot\n",
    "        # txt.submit(lambda: \"\", None, txt) # clear text box, python version\n",
    "        txt.submit(None, None, txt, _js=\"() => {''}\") # clear text box, javascript version\n",
    "\n",
    "    demo.launch(share=False) # launch the interface\n",
    "\n",
    "OPENAI_API_KEY = \"your api key\"\n",
    "jokechatbot(OPENAI_API_KEY)"
   ]
  },
  {
   "cell_type": "code",
   "execution_count": null,
   "metadata": {},
   "outputs": [],
   "source": []
  }
 ],
 "metadata": {
  "kernelspec": {
   "display_name": "Python 3",
   "language": "python",
   "name": "python3"
  },
  "language_info": {
   "codemirror_mode": {
    "name": "ipython",
    "version": 3
   },
   "file_extension": ".py",
   "mimetype": "text/x-python",
   "name": "python",
   "nbconvert_exporter": "python",
   "pygments_lexer": "ipython3",
   "version": "3.9.8"
  },
  "orig_nbformat": 4
 },
 "nbformat": 4,
 "nbformat_minor": 2
}
